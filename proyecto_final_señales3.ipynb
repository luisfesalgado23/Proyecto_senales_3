{
 "cells": [
  {
   "cell_type": "markdown",
   "metadata": {},
   "source": [
    "# LUIS FERNANDO SALGADO DURANGO CC 1035873037"
   ]
  },
  {
   "cell_type": "markdown",
   "metadata": {},
   "source": [
    "### DESCRIPCION DEL PROBLEMA "
   ]
  },
  {
   "cell_type": "markdown",
   "metadata": {},
   "source": [
    "Hipótesis: es posible crear una red de las interacciones sociales en un aula virtual utilizando técnicas de minería de datos en la educación y con ella hallar la correlación de esta con el desempeño de los estudiantes y la deserción, en poscas palabras identificar los estudiantes en riesgo dentro del aula.\n",
    "\n",
    "La importancia de este estudio radica en que se ayuda a dar una idea analítica de cómo influyen las relaciones intrapersonales y sociales en el proceso de aprendizaje de un estudiante que utiliza una plataforma virtual ya que habrá unos resultados basados en análisis de los datos consignados por los estudiantes en los servidores de la plataforma. Con resultados de estudios similares a este se puede tomar decisiones para mejorar la forma en la que se le enseña en estos espacios. \n",
    "\n",
    "Se debe tener en cuenta que los datos para realizar el análisis serán proporcionados por parte ude@, la investigación se centrará en los cursos virtuales que ofrece esta plata forma.\n",
    "Preguntas fundamentales para la solución del problema. \n",
    "\n",
    "•¿Cuáles son las variables sociales mas significativas y que impactan en mayor medida el proceso de aprendizaje de los estudiantes dentro del aula virtual?\n",
    "\n",
    "•¿Cuál de todas las posibles técnicas que ofrece la minería de datos en la educación es la mas apropiada para realizar el análisis de las variables? O acaso ¿es necesario aplicar más de una en un análisis mixto? \n",
    "\n",
    "•¿Son todos los cursos de la plataforma ude@ susceptibles de recibir este análisis?\n"
   ]
  },
  {
   "cell_type": "markdown",
   "metadata": {},
   "source": [
    "### FUENTES DE INFORMACIÓN. \n"
   ]
  },
  {
   "cell_type": "markdown",
   "metadata": {},
   "source": [
    "La información de la que estudiara se toma de sitios como:\n",
    "\n",
    "https://jedm.educationaldatamining.org/index.php/JEDM/index. Esta es la revista oficial de la educational data mining que es una ong que se encarga de realizar las conferencias mundiales sobre el tema de la minería de datos en la educación.\n",
    "\n",
    "https://www.sciencedirect.com/ que es una base de datos donde se puede pueden encontrar revistas conferencias artículos y una gran cantidad de información.\n",
    "\n",
    "https://link.springer.com/journal/41239 esta es la International Journal of Educational Technology in Higher Education que es una de las revistas mas aceptadas dentro del tema de la minería de datos en la información.\n",
    "Por el momento en estos tres lugares es donde se he decidido concentrar mi búsqueda de información dado que contienen una gran cantidad de información que es afín al proyecto no se descarta que se puedan obtener artículos de otro lugar, pero dado el caso que sea así se hará el respectivo chequeo de la rigurosidad con la que se aceptan para publicar o de la fiabilidad del sitio donde se encuentre consignado el artículo.\n",
    "\n",
    "Adicionalmente se tiene en cuenta las personas que elaboraron el articulo para ver que ten veraz es la información consignada en el pondré como ejemplo dos de los artículos que he obtenido al momento los cuales son:\n",
    "\n",
    "https://www.sciencedirect.com/science/article/abs/pii/S0360131503000824 que tiene como uno de sus creadores a personas como : https://scholar.google.com/citations?hl=en&user=xrzS-v4AAAAJ entre otros.\n",
    "\n",
    "El otro articulo es https://jedm.educationaldatamining.org/index.php/JEDM/article/view/JEDM055 que tiene como uno de sus creadores a personas como : https://scholar.google.com/citations?hl=en&user=Q-UHlQ0AAAAJ entre otros.\n",
    "\n",
    "Como se puede ver en ambos casos son personas con una cantidad considerable de citaciones por sus trabajos publicados lo que indica una fiabilidad de la información contenida en los documentos. Este mismo análisis se realizara para todos los documentos que se utilizaran  en algunos casos con más o menos rigurosidad dependiendo del lugar donde este publicado. \n"
   ]
  },
  {
   "cell_type": "code",
   "execution_count": null,
   "metadata": {},
   "outputs": [],
   "source": []
  }
 ],
 "metadata": {
  "kernelspec": {
   "display_name": "Python 3",
   "language": "python",
   "name": "python3"
  },
  "language_info": {
   "codemirror_mode": {
    "name": "ipython",
    "version": 3
   },
   "file_extension": ".py",
   "mimetype": "text/x-python",
   "name": "python",
   "nbconvert_exporter": "python",
   "pygments_lexer": "ipython3",
   "version": "3.6.5"
  }
 },
 "nbformat": 4,
 "nbformat_minor": 2
}
